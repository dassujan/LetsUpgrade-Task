{
 "cells": [
  {
   "cell_type": "markdown",
   "metadata": {
    "id": "vGcbrRVIqba7"
   },
   "source": [
    "# Question 1:\n",
    "Write down a program in Python for Opening a File and Writing \" I Love LetsUpgrade\" And close it, and read it back again, and then append some data to it and close it."
   ]
  },
  {
   "cell_type": "code",
   "execution_count": 1,
   "metadata": {
    "id": "IQEZBkSvii4X"
   },
   "outputs": [],
   "source": [
    "# write mode\n",
    "file = open(\"LetsUpgrade.txt\",'w')\n",
    "file.write(\"I Love LetsUpgrade.\")\n",
    "file.close()"
   ]
  },
  {
   "cell_type": "code",
   "execution_count": 2,
   "metadata": {
    "colab": {
     "base_uri": "https://localhost:8080/"
    },
    "id": "LqDSVqsW2n2h",
    "outputId": "fd4c25d8-a51e-4372-ba0a-b64190443c68"
   },
   "outputs": [
    {
     "name": "stdout",
     "output_type": "stream",
     "text": [
      "I Love LetsUpgrade.\n"
     ]
    }
   ],
   "source": [
    "# read mode\n",
    "file = open(\"LetsUpgrade.txt\",'r')\n",
    "text = file.read()\n",
    "file.close()\n",
    "print(text)"
   ]
  },
  {
   "cell_type": "code",
   "execution_count": 3,
   "metadata": {
    "id": "dIBVoHiA30XI"
   },
   "outputs": [],
   "source": [
    "# append mode\n",
    "file = open(\"LetsUpgrade.txt\",'a')\n",
    "file.write(\" Love this LetsUpgrade Community!\")\n",
    "file.close()"
   ]
  },
  {
   "cell_type": "code",
   "execution_count": 4,
   "metadata": {
    "colab": {
     "base_uri": "https://localhost:8080/"
    },
    "id": "5tkEol84-rbG",
    "outputId": "3d7e1ceb-01dc-4881-b7ab-cb397e712a49"
   },
   "outputs": [
    {
     "name": "stdout",
     "output_type": "stream",
     "text": [
      "I Love LetsUpgrade. Love this LetsUpgrade Community!\n"
     ]
    }
   ],
   "source": [
    "# writing and reading together \n",
    "file = open(\"LetsUpgrade.txt\",'r+')\n",
    "print(file.read())\n",
    "file.write(\" It's updated now !! \")\n",
    "file.close()"
   ]
  },
  {
   "cell_type": "markdown",
   "metadata": {
    "id": "YZGmgGsw04KF"
   },
   "source": [
    "# Question 2:\n",
    "Write a function which can return a Factorial of any numbers as INT, given in the argument."
   ]
  },
  {
   "cell_type": "code",
   "execution_count": 5,
   "metadata": {
    "colab": {
     "base_uri": "https://localhost:8080/"
    },
    "id": "kZA4eBGtEixU",
    "outputId": "d6dae76f-517a-4ac6-e6c3-6b4d22bdf2ff"
   },
   "outputs": [
    {
     "name": "stdout",
     "output_type": "stream",
     "text": [
      "Enter a number : 3\n",
      "6\n"
     ]
    }
   ],
   "source": [
    "def factorial(n):\n",
    "  if n < 2:\n",
    "    return 1\n",
    "  else:\n",
    "    return n*factorial(n-1)\n",
    "n = int(input(\"Enter a number : \"))\n",
    "print(factorial(n))"
   ]
  },
  {
   "cell_type": "code",
   "execution_count": null,
   "metadata": {},
   "outputs": [],
   "source": []
  }
 ],
 "metadata": {
  "colab": {
   "name": "Assignment Day 4.ipynb",
   "provenance": []
  },
  "kernelspec": {
   "display_name": "Python 3",
   "language": "python",
   "name": "python3"
  },
  "language_info": {
   "codemirror_mode": {
    "name": "ipython",
    "version": 3
   },
   "file_extension": ".py",
   "mimetype": "text/x-python",
   "name": "python",
   "nbconvert_exporter": "python",
   "pygments_lexer": "ipython3",
   "version": "3.6.11"
  }
 },
 "nbformat": 4,
 "nbformat_minor": 1
}

