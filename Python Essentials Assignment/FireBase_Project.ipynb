{
  "nbformat": 4,
  "nbformat_minor": 0,
  "metadata": {
    "kernelspec": {
      "display_name": "Python 3",
      "language": "python",
      "name": "python3"
    },
    "language_info": {
      "codemirror_mode": {
        "name": "ipython",
        "version": 3
      },
      "file_extension": ".py",
      "mimetype": "text/x-python",
      "name": "python",
      "nbconvert_exporter": "python",
      "pygments_lexer": "ipython3",
      "version": "3.7.4"
    },
    "colab": {
      "name": "FireBase Project.ipynb",
      "provenance": [],
      "collapsed_sections": []
    }
  },
  "cells": [
    {
      "cell_type": "code",
      "metadata": {
        "id": "wMw4UIWPNhbC",
        "outputId": "52ba9a86-2667-46e8-9f9e-57c0ebb11624"
      },
      "source": [
        "!pip install firebase"
      ],
      "execution_count": null,
      "outputs": [
        {
          "output_type": "stream",
          "text": [
            "Collecting firebase\n",
            "  Downloading firebase-3.0.1-py3-none-any.whl (18 kB)\n",
            "Requirement already satisfied: requests in /opt/anaconda3/lib/python3.7/site-packages (from firebase) (2.22.0)\n",
            "Requirement already satisfied: certifi>=2017.4.17 in /opt/anaconda3/lib/python3.7/site-packages (from requests->firebase) (2019.9.11)\n",
            "Requirement already satisfied: chardet<3.1.0,>=3.0.2 in /opt/anaconda3/lib/python3.7/site-packages (from requests->firebase) (3.0.4)\n",
            "Requirement already satisfied: idna<2.9,>=2.5 in /opt/anaconda3/lib/python3.7/site-packages (from requests->firebase) (2.8)\n",
            "Requirement already satisfied: urllib3!=1.25.0,!=1.25.1,<1.26,>=1.21.1 in /opt/anaconda3/lib/python3.7/site-packages (from requests->firebase) (1.24.2)\n",
            "Installing collected packages: firebase\n",
            "Successfully installed firebase-3.0.1\n",
            "\u001b[33mWARNING: You are using pip version 20.0.2; however, version 20.3.1 is available.\n",
            "You should consider upgrading via the '/opt/anaconda3/bin/python -m pip install --upgrade pip' command.\u001b[0m\n"
          ],
          "name": "stdout"
        }
      ]
    },
    {
      "cell_type": "code",
      "metadata": {
        "id": "S2qIXY24NhbM"
      },
      "source": [
        "import firebase_admin"
      ],
      "execution_count": null,
      "outputs": []
    },
    {
      "cell_type": "code",
      "metadata": {
        "id": "5XsWCHeWNhbM"
      },
      "source": [
        "from firebase_admin import credentials\n",
        "from firebase_admin import firestore"
      ],
      "execution_count": null,
      "outputs": []
    },
    {
      "cell_type": "code",
      "metadata": {
        "id": "35lNBra_NhbQ",
        "outputId": "c8043a83-d39b-4213-83d1-75ec1db6caba"
      },
      "source": [
        "cred = credentials.Certificate(\"python-demo-letsupgrade-firebase-adminsdk-uarq8-8b119e9481.json\")\n",
        "firebase_admin.initialize_app(cred)"
      ],
      "execution_count": null,
      "outputs": [
        {
          "output_type": "execute_result",
          "data": {
            "text/plain": [
              "<firebase_admin.App at 0x7fec8a98c990>"
            ]
          },
          "metadata": {
            "tags": []
          },
          "execution_count": 10
        }
      ]
    },
    {
      "cell_type": "code",
      "metadata": {
        "id": "FWzkpSgCNhbS"
      },
      "source": [
        "db = firestore.client()"
      ],
      "execution_count": null,
      "outputs": []
    },
    {
      "cell_type": "code",
      "metadata": {
        "id": "isplJ_IKNhbT",
        "outputId": "6f3b7305-8304-4086-bec0-0a1a0e1ffb77"
      },
      "source": [
        "doc_ref = db.collection(u'users').document(u'abc')\n",
        "\n",
        "doc_ref.set({\n",
        "    u'first': u'Faiza',\n",
        "    u'last': u'Gokak',\n",
        "    u'born': 1997\n",
        "})"
      ],
      "execution_count": null,
      "outputs": [
        {
          "output_type": "execute_result",
          "data": {
            "text/plain": [
              "update_time {\n",
              "  seconds: 1608303917\n",
              "  nanos: 991911000\n",
              "}"
            ]
          },
          "metadata": {
            "tags": []
          },
          "execution_count": 12
        }
      ]
    },
    {
      "cell_type": "code",
      "metadata": {
        "id": "3-Fy0Nc7NhbU"
      },
      "source": [
        "def enterDataInDB():\n",
        "    doc_ref = db.collection(u'LetsUpgradeUsers').document()\n",
        "    \n",
        "    name = input(\"Enter Name - \")\n",
        "    lastName = input(\"Enter Last Name - \")\n",
        "    age = int(input(\"Enter Age - \"))\n",
        "    \n",
        "    dit = {}\n",
        "    dit[\"firstName\"] = name\n",
        "    dit[\"lastName\"] = lastName\n",
        "    dit[\"age\"] = age\n",
        "    \n",
        "    doc_ref.set(dit)\n",
        "    "
      ],
      "execution_count": null,
      "outputs": []
    },
    {
      "cell_type": "code",
      "metadata": {
        "id": "nod0_i-INhbV"
      },
      "source": [
        "enterDataInDB(\"sai\",\"lu\",90)"
      ],
      "execution_count": null,
      "outputs": []
    },
    {
      "cell_type": "code",
      "metadata": {
        "id": "IjCW_6ZWNhbV"
      },
      "source": [
        "enterDataInDB(\"Yogesh\",\"LU\",7829)"
      ],
      "execution_count": null,
      "outputs": []
    },
    {
      "cell_type": "code",
      "metadata": {
        "id": "lMW2pnAtNhbW"
      },
      "source": [
        "enterDataInDB(\"Tejas\",\"LU\",17)"
      ],
      "execution_count": null,
      "outputs": []
    },
    {
      "cell_type": "code",
      "metadata": {
        "id": "eBAnbwByNhbX"
      },
      "source": [
        "enterDataInDB(\"Trith\",\"Shah\",17)"
      ],
      "execution_count": null,
      "outputs": []
    },
    {
      "cell_type": "code",
      "metadata": {
        "id": "ZMBvtbzCNhbY"
      },
      "source": [
        "enterDataInDB(\"kairav\",\"Singh LU\",17)"
      ],
      "execution_count": null,
      "outputs": []
    },
    {
      "cell_type": "code",
      "metadata": {
        "id": "TsH0_XF3NhbZ"
      },
      "source": [
        "enterDataInDB(\"Saikiran\",\"LetsUpgrade\",50)"
      ],
      "execution_count": null,
      "outputs": []
    },
    {
      "cell_type": "code",
      "metadata": {
        "id": "GFFx6XgRNhbZ"
      },
      "source": [
        "enterDataInDB(\"manglesh\",\"Kumar LU\",23)"
      ],
      "execution_count": null,
      "outputs": []
    },
    {
      "cell_type": "code",
      "metadata": {
        "id": "gylQNYFWNhba",
        "outputId": "04f9d55f-4507-4c94-d3ac-c5b457c56720"
      },
      "source": [
        "enterDataInDB()"
      ],
      "execution_count": null,
      "outputs": [
        {
          "output_type": "stream",
          "text": [
            "Enter Name - Aavesh\n",
            "Enter Last Name - LetsUpgrade\n",
            "Enter Age - 26\n"
          ],
          "name": "stdout"
        }
      ]
    },
    {
      "cell_type": "code",
      "metadata": {
        "id": "YJC0XmioNhbc",
        "outputId": "9ece9060-e7ce-4754-9cd4-dfd702152d3f"
      },
      "source": [
        "docs = db.collection(u'LetsUpgradeUsers').stream()\n",
        "\n",
        "for doc in docs:\n",
        "#     print(f'{doc.id} => {doc.to_dict()}')\n",
        "    \n",
        "    print(\"ID - \", doc.id)\n",
        "    \n",
        "    print(\"First Name - \", doc.to_dict().get(\"firstName\"))\n",
        "    print(\"Last Name - \", doc.to_dict().get(\"lastName\"))\n",
        "    print(\"Age - \", doc.to_dict().get(\"age\") )\n",
        "    \n",
        "    print(\"---------------\")\n",
        "    print(\"---------------\")\n",
        "    "
      ],
      "execution_count": null,
      "outputs": [
        {
          "output_type": "stream",
          "text": [
            "ID -  0rg4glbfc8l7cuTbl2MD\n",
            "First Name -  Saikiran\n",
            "Last Name -  LetsUpgrade\n",
            "Age -  50\n",
            "---------------\n",
            "---------------\n",
            "ID -  9FRKP9oEhSsH4iyIGLIa\n",
            "First Name -  kairav\n",
            "Last Name -  Singh LU\n",
            "Age -  17\n",
            "---------------\n",
            "---------------\n",
            "ID -  RlSXAJBWyoHE0GVvFPjj\n",
            "First Name -  Aavesh\n",
            "Last Name -  LetsUpgrade\n",
            "Age -  26\n",
            "---------------\n",
            "---------------\n",
            "ID -  bbr4TLEuXvRhqaMYAV5d\n",
            "First Name -  jaya\n",
            "Last Name -  raja\n",
            "Age -  190\n",
            "---------------\n",
            "---------------\n",
            "ID -  eFgNo9dTYu3LbZ3mRpOj\n",
            "First Name -  sai\n",
            "Last Name -  lu\n",
            "Age -  90\n",
            "---------------\n",
            "---------------\n",
            "ID -  ktz3ATXXnDJbEsfngJHK\n",
            "First Name -  Yogesh\n",
            "Last Name -  LU\n",
            "Age -  7829\n",
            "---------------\n",
            "---------------\n",
            "ID -  nBqerFUbAU5BiJ9X7HrL\n",
            "First Name -  Triti\n",
            "Last Name -  Shah\n",
            "Age -  17\n",
            "---------------\n",
            "---------------\n",
            "ID -  tGkD3rziua4dpZ4yobgs\n",
            "First Name -  Trith\n",
            "Last Name -  Shah\n",
            "Age -  17\n",
            "---------------\n",
            "---------------\n",
            "ID -  tQQd4Kt7UdGD6xuldAAN\n",
            "First Name -  Tejas\n",
            "Last Name -  LU\n",
            "Age -  17\n",
            "---------------\n",
            "---------------\n",
            "ID -  zslFTBzZl8BKFhSI4Yxw\n",
            "First Name -  manglesh\n",
            "Last Name -  Kumar LU\n",
            "Age -  23\n",
            "---------------\n",
            "---------------\n"
          ],
          "name": "stdout"
        }
      ]
    },
    {
      "cell_type": "code",
      "metadata": {
        "id": "sKl8i-AaNhbc"
      },
      "source": [
        "def updateDatainFirebase(uid, updatedAge):\n",
        "    doc_ref = db.collection(u'LetsUpgradeUsers').document(uid)\n",
        "    \n",
        "    doc_ref.update({\"age\":updatedAge})"
      ],
      "execution_count": null,
      "outputs": []
    },
    {
      "cell_type": "code",
      "metadata": {
        "id": "sXCR7IPgNhbd"
      },
      "source": [
        "updateDatainFirebase(\"zslFTBzZl8BKFhSI4Yxw\",26)"
      ],
      "execution_count": null,
      "outputs": []
    },
    {
      "cell_type": "code",
      "metadata": {
        "id": "c4WTCmqHNhbd"
      },
      "source": [
        "updateDatainFirebase(\"tQQd4Kt7UdGD6xuldAAN\",17)"
      ],
      "execution_count": null,
      "outputs": []
    },
    {
      "cell_type": "code",
      "metadata": {
        "id": "R2-io5LqNhbe"
      },
      "source": [
        "def deleteDataInFirebase(uid):\n",
        "    db.collection(u'LetsUpgradeUsers').document(uid).delete()\n"
      ],
      "execution_count": null,
      "outputs": []
    },
    {
      "cell_type": "code",
      "metadata": {
        "id": "K0BC2WijNhbf"
      },
      "source": [
        "deleteDataInFirebase(\"0rg4glbfc8l7cuTbl2MD\")"
      ],
      "execution_count": null,
      "outputs": []
    },
    {
      "cell_type": "code",
      "metadata": {
        "id": "IU-EC501Nhbf"
      },
      "source": [
        "deleteDataInFirebase(\"bbr4TLEuXvRhqaMYAV5d\")"
      ],
      "execution_count": null,
      "outputs": []
    },
    {
      "cell_type": "code",
      "metadata": {
        "id": "XxRs6gG-Nhbg"
      },
      "source": [
        ""
      ],
      "execution_count": null,
      "outputs": []
    }
  ]
}
